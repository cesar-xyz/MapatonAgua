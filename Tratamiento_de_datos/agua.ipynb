{
 "cells": [
  {
   "cell_type": "markdown",
   "metadata": {
    "pycharm": {
     "name": "#%% md\n"
    }
   },
   "source": [
    "# Mapaton del agua en Nuevo Leon"
   ]
  },
  {
   "cell_type": "code",
   "execution_count": 1,
   "metadata": {
    "pycharm": {
     "name": "#%%\n"
    }
   },
   "outputs": [],
   "source": [
    "# Aqui se manda a hablar a la libreria de pandas\n",
    "import pandas as pd\n",
    "import numpy as np"
   ]
  },
  {
   "cell_type": "code",
   "execution_count": 2,
   "metadata": {
    "pycharm": {
     "name": "#%%\n"
    }
   },
   "outputs": [],
   "source": [
    "# Lectura de los archivos de concesiones\n",
    "concesiones = pd.read_csv(\"../files/CONCESIONES.csv\")\n",
    "#Lectura de los archivos de subterraneos\n",
    "subterraneos = pd.read_csv(\"../files/ANEXOS_SUBTERRANEOS.csv\")\n",
    "\n",
    "# Se quitaron los ascentos en las í\n",
    "concesiones.columns=concesiones.columns.str.replace('Í','I')\n",
    "subterraneos.columns=subterraneos.columns.str.replace('Í','I')"
   ]
  },
  {
   "cell_type": "code",
   "execution_count": 3,
   "metadata": {
    "pycharm": {
     "name": "#%%\n"
    }
   },
   "outputs": [],
   "source": [
    "# Filtro para solo ver los datos de Nuevo Leon (Estado 19)\n",
    "subterraneos = subterraneos.query(\"ESTADO == 19\")"
   ]
  },
  {
   "cell_type": "code",
   "execution_count": 4,
   "metadata": {
    "pycharm": {
     "name": "#%%\n"
    }
   },
   "outputs": [],
   "source": [
    "# Union de las bases de datos de concesiones y subterraneos\n",
    "\n",
    "union = pd.merge(concesiones, subterraneos,on='TITULO')\n",
    "union = union.drop_duplicates(subset=['TITULO'])"
   ]
  },
  {
   "cell_type": "code",
   "execution_count": 5,
   "metadata": {
    "pycharm": {
     "name": "#%%\n"
    }
   },
   "outputs": [],
   "source": [
    "# Visualizar la union\n",
    "union\n",
    "union.to_csv(\"../files/union1.csv\", sep=',')"
   ]
  },
  {
   "cell_type": "markdown",
   "metadata": {
    "pycharm": {
     "name": "#%% md\n"
    }
   },
   "source": [
    "### Conversión Latitud/Longitud Grados Mins Segs a Decimales"
   ]
  },
  {
   "cell_type": "code",
   "execution_count": 6,
   "metadata": {
    "pycharm": {
     "name": "#%%\n"
    }
   },
   "outputs": [],
   "source": [
    "# Se agrega una columna llamada latitud donde se agrega la conversión de las unidades de latitud grados/mins/segs a decimal\n",
    "union['Latitud'] = union.apply(lambda row: row['GRADOS LATITUD'] + row['MINUTOS LATITUD']/ 60 + row['SEGUNDOS LATITUD']/3600, axis=1)"
   ]
  },
  {
   "cell_type": "code",
   "execution_count": 7,
   "metadata": {
    "pycharm": {
     "name": "#%%\n"
    }
   },
   "outputs": [],
   "source": [
    "# Se agrega una columna llamada longitud donde se agrega la conversión de las unidades de longitud grados/mins/segs a decimal\n",
    "# Se multiplican por -1 ya que estamos a la izquierda del meridiano origen.\n",
    "union['Longitud'] = union.apply(lambda row: (row['GRADOS LONGITUD'] + row['MINUTOS LONGITUD']/ 60 + row['SEGUNDOS LONGITUD']/3600)*-1, axis=1)"
   ]
  },
  {
   "cell_type": "code",
   "execution_count": 8,
   "metadata": {
    "pycharm": {
     "name": "#%%\n"
    }
   },
   "outputs": [
    {
     "data": {
      "text/plain": "                     TITULO USO QUE AMPARA EL TITULO  \\\n0                    810151                DOMÉSTICO   \n1                    810334               INDUSTRIAL   \n2                    810342                SERVICIOS   \n3                    810477               INDUSTRIAL   \n4                    810727               INDUSTRIAL   \n...                     ...                      ...   \n12875  06NVL115749/24ELDA17                SERVICIOS   \n12876  06NVL115752/24EMDA13                SERVICIOS   \n12877  06NVL115763/24FLOC14               INDUSTRIAL   \n12878  07NVL114700/37AMDA12                 AGRÍCOLA   \n12880  07NVL114701/37AMDA12                 AGRÍCOLA   \n\n                                                 TITULAR  \\\n0                           REBECA QUINTANILLA RODRIGUEZ   \n1       CATERPILLAR INDUSTRIAS MEXICO S. DE R.L. DE C.V.   \n2                                JOSE ELIAS FAJER FARAON   \n3      ERNESTO BOSQUES MARTINEZ, JUAN MANUEL BOSQUES ...   \n4                        AS MAQUILA MEXICO S DE RL DE CV   \n...                                                  ...   \n12875                            FRANCISCO SUSTAITA LUNA   \n12876                       FRISA FORJADOS, S.A. DE C.V.   \n12877                             ACEROMEX, S.A. DE C.V.   \n12878                          LOS ENEBROS, S.A. DE C.V.   \n12880                        CERRO DE AGUA, S.A. DE C.V.   \n\n       VOLUMEN DE EXTRACCIÓN ANUAL DE AGUAS NACIONALES QUE AMPARA EL TITULO EN m3  \\\n0                                                1200.00                            \n1                                               20000.00                            \n2                                                7000.00                            \n3                                              100000.00                            \n4                                               30000.00                            \n...                                                  ...                            \n12875                                             429.26                            \n12876                                           50000.00                            \n12877                                           20000.00                            \n12878                                         1920000.00                            \n12880                                         3300000.00                            \n\n       APROVECHAMIENTOS SUPERFICIALES QUE AMPARA EL TITULO  \\\n0                                                      0     \n1                                                      0     \n2                                                      0     \n3                                                      0     \n4                                                      0     \n...                                                  ...     \n12875                                                  0     \n12876                                                  0     \n12877                                                  0     \n12878                                                  0     \n12880                                                  0     \n\n       VOLUMEN DE EXTRACCIÓN ANUAL DE APROVECHAMIENTOS SUPERFICIALES EN m3  \\\n0                                                    0.0                     \n1                                                    0.0                     \n2                                                    0.0                     \n3                                                    0.0                     \n4                                                    0.0                     \n...                                                  ...                     \n12875                                                0.0                     \n12876                                                0.0                     \n12877                                                0.0                     \n12878                                                0.0                     \n12880                                                0.0                     \n\n       APROVECHAMIENTOS SUBTERRÁNEOS QUE AMPARA EL TITULO  \\\n0                                                      1    \n1                                                      1    \n2                                                      1    \n3                                                      1    \n4                                                      1    \n...                                                  ...    \n12875                                                  1    \n12876                                                  1    \n12877                                                  1    \n12878                                                  2    \n12880                                                  4    \n\n       VOLUMEN DE EXTRACCIÓN ANUAL DE APROVECHAMIENTOS SUBTERRÁNEOS EN m3  \\\n0                                                1200.00                    \n1                                               20000.00                    \n2                                                7000.00                    \n3                                              100000.00                    \n4                                               30000.00                    \n...                                                  ...                    \n12875                                             429.26                    \n12876                                           50000.00                    \n12877                                           20000.00                    \n12878                                         1920000.00                    \n12880                                         3300000.00                    \n\n       PUNTOS DE DESCARGA QUE AMPARA EL TITULO  \\\n0                                            0   \n1                                            0   \n2                                            0   \n3                                            0   \n4                                            0   \n...                                        ...   \n12875                                        0   \n12876                                        0   \n12877                                        0   \n12878                                        0   \n12880                                        0   \n\n       VOLUMEN DE DESCARGA DIARIO EN m3  ...  GRADOS LONGITUD  \\\n0                                   0.0  ...               99   \n1                                   0.0  ...              100   \n2                                   0.0  ...              100   \n3                                   0.0  ...              100   \n4                                   0.0  ...              100   \n...                                 ...  ...              ...   \n12875                               0.0  ...              100   \n12876                               0.0  ...              100   \n12877                               0.0  ...              100   \n12878                               0.0  ...              100   \n12880                               0.0  ...              100   \n\n       MINUTOS LONGITUD SEGUNDOS LONGITUD  \\\n0                    37           34.1179   \n1                    15            7.4047   \n2                     7           45.1910   \n3                     2           28.0024   \n4                    13           24.2036   \n...                 ...               ...   \n12875                23           17.3000   \n12876                32           23.0000   \n12877                12           37.3000   \n12878                25           10.6000   \n12880                23            4.8000   \n\n      CLAVE DE ACUIFERO QUE MENCIONA EL TITULO  \\\n0                                          0.0   \n1                                          0.0   \n2                                          0.0   \n3                                          0.0   \n4                                          0.0   \n...                                        ...   \n12875                                   1924.0   \n12876                                   1909.0   \n12877                                   1924.0   \n12878                                   1916.0   \n12880                                   1916.0   \n\n       ACUIFERO QUE MENCIONA EL TITULO NÚMERO DE ANEXO  \\\n0                             SIN DATO               1   \n1                             SIN DATO               1   \n2                             SIN DATO               1   \n3                             SIN DATO               1   \n4                             SIN DATO               1   \n...                                ...             ...   \n12875       EL CARMEN-SALINAS-VICTORIA               1   \n12876                    CAMPO DURAZNO               1   \n12877       EL CARMEN-SALINAS-VICTORIA               1   \n12878            NAVIDAD-POTOSI-RAICES               1   \n12880            NAVIDAD-POTOSI-RAICES               1   \n\n       CLAVE DE ACUIFERO HOMOLOGADO NOMBRE DE ACUIFERO HOMOLOGADO    Latitud  \\\n0                              1913           CHINA-GENERAL BRAVO  25.697347   \n1                              1924    EL CARMEN-SALINAS-VICTORIA  25.887799   \n2                              1911             CAÑÓN DEL HUAJUCO  25.416678   \n3                              1924    EL CARMEN-SALINAS-VICTORIA  25.853892   \n4                              1924    EL CARMEN-SALINAS-VICTORIA  25.878280   \n...                             ...                           ...        ...   \n12875                          1924    EL CARMEN-SALINAS-VICTORIA  25.831250   \n12876                          1909                 CAMPO DURAZNO  25.756944   \n12877                          1924    EL CARMEN-SALINAS-VICTORIA  25.909750   \n12878                          1916         NAVIDAD-POTOSÍ-RAÍCES  24.836667   \n12880                          1916         NAVIDAD-POTOSÍ-RAÍCES  24.868361   \n\n         Longitud  \n0      -99.626144  \n1     -100.252057  \n2     -100.129220  \n3     -100.041112  \n4     -100.223390  \n...           ...  \n12875 -100.388139  \n12876 -100.539722  \n12877 -100.210361  \n12878 -100.419611  \n12880 -100.384667  \n\n[9777 rows x 36 columns]",
      "text/html": "<div>\n<style scoped>\n    .dataframe tbody tr th:only-of-type {\n        vertical-align: middle;\n    }\n\n    .dataframe tbody tr th {\n        vertical-align: top;\n    }\n\n    .dataframe thead th {\n        text-align: right;\n    }\n</style>\n<table border=\"1\" class=\"dataframe\">\n  <thead>\n    <tr style=\"text-align: right;\">\n      <th></th>\n      <th>TITULO</th>\n      <th>USO QUE AMPARA EL TITULO</th>\n      <th>TITULAR</th>\n      <th>VOLUMEN DE EXTRACCIÓN ANUAL DE AGUAS NACIONALES QUE AMPARA EL TITULO EN m3</th>\n      <th>APROVECHAMIENTOS SUPERFICIALES QUE AMPARA EL TITULO</th>\n      <th>VOLUMEN DE EXTRACCIÓN ANUAL DE APROVECHAMIENTOS SUPERFICIALES EN m3</th>\n      <th>APROVECHAMIENTOS SUBTERRÁNEOS QUE AMPARA EL TITULO</th>\n      <th>VOLUMEN DE EXTRACCIÓN ANUAL DE APROVECHAMIENTOS SUBTERRÁNEOS EN m3</th>\n      <th>PUNTOS DE DESCARGA QUE AMPARA EL TITULO</th>\n      <th>VOLUMEN DE DESCARGA DIARIO EN m3</th>\n      <th>...</th>\n      <th>GRADOS LONGITUD</th>\n      <th>MINUTOS LONGITUD</th>\n      <th>SEGUNDOS LONGITUD</th>\n      <th>CLAVE DE ACUIFERO QUE MENCIONA EL TITULO</th>\n      <th>ACUIFERO QUE MENCIONA EL TITULO</th>\n      <th>NÚMERO DE ANEXO</th>\n      <th>CLAVE DE ACUIFERO HOMOLOGADO</th>\n      <th>NOMBRE DE ACUIFERO HOMOLOGADO</th>\n      <th>Latitud</th>\n      <th>Longitud</th>\n    </tr>\n  </thead>\n  <tbody>\n    <tr>\n      <th>0</th>\n      <td>810151</td>\n      <td>DOMÉSTICO</td>\n      <td>REBECA QUINTANILLA RODRIGUEZ</td>\n      <td>1200.00</td>\n      <td>0</td>\n      <td>0.0</td>\n      <td>1</td>\n      <td>1200.00</td>\n      <td>0</td>\n      <td>0.0</td>\n      <td>...</td>\n      <td>99</td>\n      <td>37</td>\n      <td>34.1179</td>\n      <td>0.0</td>\n      <td>SIN DATO</td>\n      <td>1</td>\n      <td>1913</td>\n      <td>CHINA-GENERAL BRAVO</td>\n      <td>25.697347</td>\n      <td>-99.626144</td>\n    </tr>\n    <tr>\n      <th>1</th>\n      <td>810334</td>\n      <td>INDUSTRIAL</td>\n      <td>CATERPILLAR INDUSTRIAS MEXICO S. DE R.L. DE C.V.</td>\n      <td>20000.00</td>\n      <td>0</td>\n      <td>0.0</td>\n      <td>1</td>\n      <td>20000.00</td>\n      <td>0</td>\n      <td>0.0</td>\n      <td>...</td>\n      <td>100</td>\n      <td>15</td>\n      <td>7.4047</td>\n      <td>0.0</td>\n      <td>SIN DATO</td>\n      <td>1</td>\n      <td>1924</td>\n      <td>EL CARMEN-SALINAS-VICTORIA</td>\n      <td>25.887799</td>\n      <td>-100.252057</td>\n    </tr>\n    <tr>\n      <th>2</th>\n      <td>810342</td>\n      <td>SERVICIOS</td>\n      <td>JOSE ELIAS FAJER FARAON</td>\n      <td>7000.00</td>\n      <td>0</td>\n      <td>0.0</td>\n      <td>1</td>\n      <td>7000.00</td>\n      <td>0</td>\n      <td>0.0</td>\n      <td>...</td>\n      <td>100</td>\n      <td>7</td>\n      <td>45.1910</td>\n      <td>0.0</td>\n      <td>SIN DATO</td>\n      <td>1</td>\n      <td>1911</td>\n      <td>CAÑÓN DEL HUAJUCO</td>\n      <td>25.416678</td>\n      <td>-100.129220</td>\n    </tr>\n    <tr>\n      <th>3</th>\n      <td>810477</td>\n      <td>INDUSTRIAL</td>\n      <td>ERNESTO BOSQUES MARTINEZ, JUAN MANUEL BOSQUES ...</td>\n      <td>100000.00</td>\n      <td>0</td>\n      <td>0.0</td>\n      <td>1</td>\n      <td>100000.00</td>\n      <td>0</td>\n      <td>0.0</td>\n      <td>...</td>\n      <td>100</td>\n      <td>2</td>\n      <td>28.0024</td>\n      <td>0.0</td>\n      <td>SIN DATO</td>\n      <td>1</td>\n      <td>1924</td>\n      <td>EL CARMEN-SALINAS-VICTORIA</td>\n      <td>25.853892</td>\n      <td>-100.041112</td>\n    </tr>\n    <tr>\n      <th>4</th>\n      <td>810727</td>\n      <td>INDUSTRIAL</td>\n      <td>AS MAQUILA MEXICO S DE RL DE CV</td>\n      <td>30000.00</td>\n      <td>0</td>\n      <td>0.0</td>\n      <td>1</td>\n      <td>30000.00</td>\n      <td>0</td>\n      <td>0.0</td>\n      <td>...</td>\n      <td>100</td>\n      <td>13</td>\n      <td>24.2036</td>\n      <td>0.0</td>\n      <td>SIN DATO</td>\n      <td>1</td>\n      <td>1924</td>\n      <td>EL CARMEN-SALINAS-VICTORIA</td>\n      <td>25.878280</td>\n      <td>-100.223390</td>\n    </tr>\n    <tr>\n      <th>...</th>\n      <td>...</td>\n      <td>...</td>\n      <td>...</td>\n      <td>...</td>\n      <td>...</td>\n      <td>...</td>\n      <td>...</td>\n      <td>...</td>\n      <td>...</td>\n      <td>...</td>\n      <td>...</td>\n      <td>...</td>\n      <td>...</td>\n      <td>...</td>\n      <td>...</td>\n      <td>...</td>\n      <td>...</td>\n      <td>...</td>\n      <td>...</td>\n      <td>...</td>\n      <td>...</td>\n    </tr>\n    <tr>\n      <th>12875</th>\n      <td>06NVL115749/24ELDA17</td>\n      <td>SERVICIOS</td>\n      <td>FRANCISCO SUSTAITA LUNA</td>\n      <td>429.26</td>\n      <td>0</td>\n      <td>0.0</td>\n      <td>1</td>\n      <td>429.26</td>\n      <td>0</td>\n      <td>0.0</td>\n      <td>...</td>\n      <td>100</td>\n      <td>23</td>\n      <td>17.3000</td>\n      <td>1924.0</td>\n      <td>EL CARMEN-SALINAS-VICTORIA</td>\n      <td>1</td>\n      <td>1924</td>\n      <td>EL CARMEN-SALINAS-VICTORIA</td>\n      <td>25.831250</td>\n      <td>-100.388139</td>\n    </tr>\n    <tr>\n      <th>12876</th>\n      <td>06NVL115752/24EMDA13</td>\n      <td>SERVICIOS</td>\n      <td>FRISA FORJADOS, S.A. DE C.V.</td>\n      <td>50000.00</td>\n      <td>0</td>\n      <td>0.0</td>\n      <td>1</td>\n      <td>50000.00</td>\n      <td>0</td>\n      <td>0.0</td>\n      <td>...</td>\n      <td>100</td>\n      <td>32</td>\n      <td>23.0000</td>\n      <td>1909.0</td>\n      <td>CAMPO DURAZNO</td>\n      <td>1</td>\n      <td>1909</td>\n      <td>CAMPO DURAZNO</td>\n      <td>25.756944</td>\n      <td>-100.539722</td>\n    </tr>\n    <tr>\n      <th>12877</th>\n      <td>06NVL115763/24FLOC14</td>\n      <td>INDUSTRIAL</td>\n      <td>ACEROMEX, S.A. DE C.V.</td>\n      <td>20000.00</td>\n      <td>0</td>\n      <td>0.0</td>\n      <td>1</td>\n      <td>20000.00</td>\n      <td>0</td>\n      <td>0.0</td>\n      <td>...</td>\n      <td>100</td>\n      <td>12</td>\n      <td>37.3000</td>\n      <td>1924.0</td>\n      <td>EL CARMEN-SALINAS-VICTORIA</td>\n      <td>1</td>\n      <td>1924</td>\n      <td>EL CARMEN-SALINAS-VICTORIA</td>\n      <td>25.909750</td>\n      <td>-100.210361</td>\n    </tr>\n    <tr>\n      <th>12878</th>\n      <td>07NVL114700/37AMDA12</td>\n      <td>AGRÍCOLA</td>\n      <td>LOS ENEBROS, S.A. DE C.V.</td>\n      <td>1920000.00</td>\n      <td>0</td>\n      <td>0.0</td>\n      <td>2</td>\n      <td>1920000.00</td>\n      <td>0</td>\n      <td>0.0</td>\n      <td>...</td>\n      <td>100</td>\n      <td>25</td>\n      <td>10.6000</td>\n      <td>1916.0</td>\n      <td>NAVIDAD-POTOSI-RAICES</td>\n      <td>1</td>\n      <td>1916</td>\n      <td>NAVIDAD-POTOSÍ-RAÍCES</td>\n      <td>24.836667</td>\n      <td>-100.419611</td>\n    </tr>\n    <tr>\n      <th>12880</th>\n      <td>07NVL114701/37AMDA12</td>\n      <td>AGRÍCOLA</td>\n      <td>CERRO DE AGUA, S.A. DE C.V.</td>\n      <td>3300000.00</td>\n      <td>0</td>\n      <td>0.0</td>\n      <td>4</td>\n      <td>3300000.00</td>\n      <td>0</td>\n      <td>0.0</td>\n      <td>...</td>\n      <td>100</td>\n      <td>23</td>\n      <td>4.8000</td>\n      <td>1916.0</td>\n      <td>NAVIDAD-POTOSI-RAICES</td>\n      <td>1</td>\n      <td>1916</td>\n      <td>NAVIDAD-POTOSÍ-RAÍCES</td>\n      <td>24.868361</td>\n      <td>-100.384667</td>\n    </tr>\n  </tbody>\n</table>\n<p>9777 rows × 36 columns</p>\n</div>"
     },
     "execution_count": 8,
     "metadata": {},
     "output_type": "execute_result"
    }
   ],
   "source": [
    "# Se visualiza la union con los cambios realizados\n",
    "union"
   ]
  },
  {
   "cell_type": "markdown",
   "metadata": {
    "pycharm": {
     "name": "#%% md\n"
    }
   },
   "source": [
    "### Union 2 la cual consiste en la union anterior(concesiones y subterraneos) + el repda"
   ]
  },
  {
   "cell_type": "code",
   "execution_count": 9,
   "metadata": {
    "pycharm": {
     "name": "#%%\n"
    }
   },
   "outputs": [],
   "source": [
    "# Se realiza la lectura de Repda pero solo las columnas de Titulo y PubPrivEjid para realizar la otra unión\n",
    "REPDA = pd.read_csv(\"../files/REPDA_NL.csv\", usecols = ['Titulo','PubPrivEjid'])\n",
    "# Se renombra la columna Titulo a TITULO para poder realizar una unión con la otras bases de datos más rápido\n",
    "REPDA = REPDA.rename(columns={\"Titulo\":\"TITULO\"})"
   ]
  },
  {
   "cell_type": "code",
   "execution_count": 10,
   "metadata": {
    "pycharm": {
     "name": "#%%\n"
    }
   },
   "outputs": [],
   "source": [
    "# Unión de la base de datos de concesiones, subterraneos y el REPDA\n",
    "union2 = pd.merge(union,REPDA,on='TITULO')"
   ]
  },
  {
   "cell_type": "code",
   "execution_count": 11,
   "metadata": {
    "pycharm": {
     "name": "#%%\n"
    }
   },
   "outputs": [
    {
     "data": {
      "text/plain": "                    TITULO USO QUE AMPARA EL TITULO  \\\n0                   810151                DOMÉSTICO   \n1                   810334               INDUSTRIAL   \n2                   810342                SERVICIOS   \n3                   810477               INDUSTRIAL   \n4                   810727               INDUSTRIAL   \n...                    ...                      ...   \n9772  06NVL115749/24ELDA17                SERVICIOS   \n9773  06NVL115752/24EMDA13                SERVICIOS   \n9774  06NVL115763/24FLOC14               INDUSTRIAL   \n9775  07NVL114700/37AMDA12                 AGRÍCOLA   \n9776  07NVL114701/37AMDA12                 AGRÍCOLA   \n\n                                                TITULAR  \\\n0                          REBECA QUINTANILLA RODRIGUEZ   \n1      CATERPILLAR INDUSTRIAS MEXICO S. DE R.L. DE C.V.   \n2                               JOSE ELIAS FAJER FARAON   \n3     ERNESTO BOSQUES MARTINEZ, JUAN MANUEL BOSQUES ...   \n4                       AS MAQUILA MEXICO S DE RL DE CV   \n...                                                 ...   \n9772                            FRANCISCO SUSTAITA LUNA   \n9773                       FRISA FORJADOS, S.A. DE C.V.   \n9774                             ACEROMEX, S.A. DE C.V.   \n9775                          LOS ENEBROS, S.A. DE C.V.   \n9776                        CERRO DE AGUA, S.A. DE C.V.   \n\n      VOLUMEN DE EXTRACCIÓN ANUAL DE AGUAS NACIONALES QUE AMPARA EL TITULO EN m3  \\\n0                                               1200.00                            \n1                                              20000.00                            \n2                                               7000.00                            \n3                                             100000.00                            \n4                                              30000.00                            \n...                                                 ...                            \n9772                                             429.26                            \n9773                                           50000.00                            \n9774                                           20000.00                            \n9775                                         1920000.00                            \n9776                                         3300000.00                            \n\n      APROVECHAMIENTOS SUPERFICIALES QUE AMPARA EL TITULO  \\\n0                                                     0     \n1                                                     0     \n2                                                     0     \n3                                                     0     \n4                                                     0     \n...                                                 ...     \n9772                                                  0     \n9773                                                  0     \n9774                                                  0     \n9775                                                  0     \n9776                                                  0     \n\n      VOLUMEN DE EXTRACCIÓN ANUAL DE APROVECHAMIENTOS SUPERFICIALES EN m3  \\\n0                                                   0.0                     \n1                                                   0.0                     \n2                                                   0.0                     \n3                                                   0.0                     \n4                                                   0.0                     \n...                                                 ...                     \n9772                                                0.0                     \n9773                                                0.0                     \n9774                                                0.0                     \n9775                                                0.0                     \n9776                                                0.0                     \n\n      APROVECHAMIENTOS SUBTERRÁNEOS QUE AMPARA EL TITULO  \\\n0                                                     1    \n1                                                     1    \n2                                                     1    \n3                                                     1    \n4                                                     1    \n...                                                 ...    \n9772                                                  1    \n9773                                                  1    \n9774                                                  1    \n9775                                                  2    \n9776                                                  4    \n\n      VOLUMEN DE EXTRACCIÓN ANUAL DE APROVECHAMIENTOS SUBTERRÁNEOS EN m3  \\\n0                                               1200.00                    \n1                                              20000.00                    \n2                                               7000.00                    \n3                                             100000.00                    \n4                                              30000.00                    \n...                                                 ...                    \n9772                                             429.26                    \n9773                                           50000.00                    \n9774                                           20000.00                    \n9775                                         1920000.00                    \n9776                                         3300000.00                    \n\n      PUNTOS DE DESCARGA QUE AMPARA EL TITULO  \\\n0                                           0   \n1                                           0   \n2                                           0   \n3                                           0   \n4                                           0   \n...                                       ...   \n9772                                        0   \n9773                                        0   \n9774                                        0   \n9775                                        0   \n9776                                        0   \n\n      VOLUMEN DE DESCARGA DIARIO EN m3  ...  MINUTOS LONGITUD  \\\n0                                  0.0  ...                37   \n1                                  0.0  ...                15   \n2                                  0.0  ...                 7   \n3                                  0.0  ...                 2   \n4                                  0.0  ...                13   \n...                                ...  ...               ...   \n9772                               0.0  ...                23   \n9773                               0.0  ...                32   \n9774                               0.0  ...                12   \n9775                               0.0  ...                25   \n9776                               0.0  ...                23   \n\n      SEGUNDOS LONGITUD CLAVE DE ACUIFERO QUE MENCIONA EL TITULO  \\\n0               34.1179                                      0.0   \n1                7.4047                                      0.0   \n2               45.1910                                      0.0   \n3               28.0024                                      0.0   \n4               24.2036                                      0.0   \n...                 ...                                      ...   \n9772            17.3000                                   1924.0   \n9773            23.0000                                   1909.0   \n9774            37.3000                                   1924.0   \n9775            10.6000                                   1916.0   \n9776             4.8000                                   1916.0   \n\n     ACUIFERO QUE MENCIONA EL TITULO  NÚMERO DE ANEXO  \\\n0                           SIN DATO                1   \n1                           SIN DATO                1   \n2                           SIN DATO                1   \n3                           SIN DATO                1   \n4                           SIN DATO                1   \n...                              ...              ...   \n9772      EL CARMEN-SALINAS-VICTORIA                1   \n9773                   CAMPO DURAZNO                1   \n9774      EL CARMEN-SALINAS-VICTORIA                1   \n9775           NAVIDAD-POTOSI-RAICES                1   \n9776           NAVIDAD-POTOSI-RAICES                1   \n\n     CLAVE DE ACUIFERO HOMOLOGADO  NOMBRE DE ACUIFERO HOMOLOGADO    Latitud  \\\n0                            1913            CHINA-GENERAL BRAVO  25.697347   \n1                            1924     EL CARMEN-SALINAS-VICTORIA  25.887799   \n2                            1911              CAÑÓN DEL HUAJUCO  25.416678   \n3                            1924     EL CARMEN-SALINAS-VICTORIA  25.853892   \n4                            1924     EL CARMEN-SALINAS-VICTORIA  25.878280   \n...                           ...                            ...        ...   \n9772                         1924     EL CARMEN-SALINAS-VICTORIA  25.831250   \n9773                         1909                  CAMPO DURAZNO  25.756944   \n9774                         1924     EL CARMEN-SALINAS-VICTORIA  25.909750   \n9775                         1916          NAVIDAD-POTOSÍ-RAÍCES  24.836667   \n9776                         1916          NAVIDAD-POTOSÍ-RAÍCES  24.868361   \n\n        Longitud PubPrivEjid  \n0     -99.626144     PRIVADO  \n1    -100.252057     PRIVADO  \n2    -100.129220     PRIVADO  \n3    -100.041112     PRIVADO  \n4    -100.223390     PRIVADO  \n...          ...         ...  \n9772 -100.388139     PRIVADO  \n9773 -100.539722     PRIVADO  \n9774 -100.210361     PRIVADO  \n9775 -100.419611     PRIVADO  \n9776 -100.384667     PRIVADO  \n\n[9777 rows x 37 columns]",
      "text/html": "<div>\n<style scoped>\n    .dataframe tbody tr th:only-of-type {\n        vertical-align: middle;\n    }\n\n    .dataframe tbody tr th {\n        vertical-align: top;\n    }\n\n    .dataframe thead th {\n        text-align: right;\n    }\n</style>\n<table border=\"1\" class=\"dataframe\">\n  <thead>\n    <tr style=\"text-align: right;\">\n      <th></th>\n      <th>TITULO</th>\n      <th>USO QUE AMPARA EL TITULO</th>\n      <th>TITULAR</th>\n      <th>VOLUMEN DE EXTRACCIÓN ANUAL DE AGUAS NACIONALES QUE AMPARA EL TITULO EN m3</th>\n      <th>APROVECHAMIENTOS SUPERFICIALES QUE AMPARA EL TITULO</th>\n      <th>VOLUMEN DE EXTRACCIÓN ANUAL DE APROVECHAMIENTOS SUPERFICIALES EN m3</th>\n      <th>APROVECHAMIENTOS SUBTERRÁNEOS QUE AMPARA EL TITULO</th>\n      <th>VOLUMEN DE EXTRACCIÓN ANUAL DE APROVECHAMIENTOS SUBTERRÁNEOS EN m3</th>\n      <th>PUNTOS DE DESCARGA QUE AMPARA EL TITULO</th>\n      <th>VOLUMEN DE DESCARGA DIARIO EN m3</th>\n      <th>...</th>\n      <th>MINUTOS LONGITUD</th>\n      <th>SEGUNDOS LONGITUD</th>\n      <th>CLAVE DE ACUIFERO QUE MENCIONA EL TITULO</th>\n      <th>ACUIFERO QUE MENCIONA EL TITULO</th>\n      <th>NÚMERO DE ANEXO</th>\n      <th>CLAVE DE ACUIFERO HOMOLOGADO</th>\n      <th>NOMBRE DE ACUIFERO HOMOLOGADO</th>\n      <th>Latitud</th>\n      <th>Longitud</th>\n      <th>PubPrivEjid</th>\n    </tr>\n  </thead>\n  <tbody>\n    <tr>\n      <th>0</th>\n      <td>810151</td>\n      <td>DOMÉSTICO</td>\n      <td>REBECA QUINTANILLA RODRIGUEZ</td>\n      <td>1200.00</td>\n      <td>0</td>\n      <td>0.0</td>\n      <td>1</td>\n      <td>1200.00</td>\n      <td>0</td>\n      <td>0.0</td>\n      <td>...</td>\n      <td>37</td>\n      <td>34.1179</td>\n      <td>0.0</td>\n      <td>SIN DATO</td>\n      <td>1</td>\n      <td>1913</td>\n      <td>CHINA-GENERAL BRAVO</td>\n      <td>25.697347</td>\n      <td>-99.626144</td>\n      <td>PRIVADO</td>\n    </tr>\n    <tr>\n      <th>1</th>\n      <td>810334</td>\n      <td>INDUSTRIAL</td>\n      <td>CATERPILLAR INDUSTRIAS MEXICO S. DE R.L. DE C.V.</td>\n      <td>20000.00</td>\n      <td>0</td>\n      <td>0.0</td>\n      <td>1</td>\n      <td>20000.00</td>\n      <td>0</td>\n      <td>0.0</td>\n      <td>...</td>\n      <td>15</td>\n      <td>7.4047</td>\n      <td>0.0</td>\n      <td>SIN DATO</td>\n      <td>1</td>\n      <td>1924</td>\n      <td>EL CARMEN-SALINAS-VICTORIA</td>\n      <td>25.887799</td>\n      <td>-100.252057</td>\n      <td>PRIVADO</td>\n    </tr>\n    <tr>\n      <th>2</th>\n      <td>810342</td>\n      <td>SERVICIOS</td>\n      <td>JOSE ELIAS FAJER FARAON</td>\n      <td>7000.00</td>\n      <td>0</td>\n      <td>0.0</td>\n      <td>1</td>\n      <td>7000.00</td>\n      <td>0</td>\n      <td>0.0</td>\n      <td>...</td>\n      <td>7</td>\n      <td>45.1910</td>\n      <td>0.0</td>\n      <td>SIN DATO</td>\n      <td>1</td>\n      <td>1911</td>\n      <td>CAÑÓN DEL HUAJUCO</td>\n      <td>25.416678</td>\n      <td>-100.129220</td>\n      <td>PRIVADO</td>\n    </tr>\n    <tr>\n      <th>3</th>\n      <td>810477</td>\n      <td>INDUSTRIAL</td>\n      <td>ERNESTO BOSQUES MARTINEZ, JUAN MANUEL BOSQUES ...</td>\n      <td>100000.00</td>\n      <td>0</td>\n      <td>0.0</td>\n      <td>1</td>\n      <td>100000.00</td>\n      <td>0</td>\n      <td>0.0</td>\n      <td>...</td>\n      <td>2</td>\n      <td>28.0024</td>\n      <td>0.0</td>\n      <td>SIN DATO</td>\n      <td>1</td>\n      <td>1924</td>\n      <td>EL CARMEN-SALINAS-VICTORIA</td>\n      <td>25.853892</td>\n      <td>-100.041112</td>\n      <td>PRIVADO</td>\n    </tr>\n    <tr>\n      <th>4</th>\n      <td>810727</td>\n      <td>INDUSTRIAL</td>\n      <td>AS MAQUILA MEXICO S DE RL DE CV</td>\n      <td>30000.00</td>\n      <td>0</td>\n      <td>0.0</td>\n      <td>1</td>\n      <td>30000.00</td>\n      <td>0</td>\n      <td>0.0</td>\n      <td>...</td>\n      <td>13</td>\n      <td>24.2036</td>\n      <td>0.0</td>\n      <td>SIN DATO</td>\n      <td>1</td>\n      <td>1924</td>\n      <td>EL CARMEN-SALINAS-VICTORIA</td>\n      <td>25.878280</td>\n      <td>-100.223390</td>\n      <td>PRIVADO</td>\n    </tr>\n    <tr>\n      <th>...</th>\n      <td>...</td>\n      <td>...</td>\n      <td>...</td>\n      <td>...</td>\n      <td>...</td>\n      <td>...</td>\n      <td>...</td>\n      <td>...</td>\n      <td>...</td>\n      <td>...</td>\n      <td>...</td>\n      <td>...</td>\n      <td>...</td>\n      <td>...</td>\n      <td>...</td>\n      <td>...</td>\n      <td>...</td>\n      <td>...</td>\n      <td>...</td>\n      <td>...</td>\n      <td>...</td>\n    </tr>\n    <tr>\n      <th>9772</th>\n      <td>06NVL115749/24ELDA17</td>\n      <td>SERVICIOS</td>\n      <td>FRANCISCO SUSTAITA LUNA</td>\n      <td>429.26</td>\n      <td>0</td>\n      <td>0.0</td>\n      <td>1</td>\n      <td>429.26</td>\n      <td>0</td>\n      <td>0.0</td>\n      <td>...</td>\n      <td>23</td>\n      <td>17.3000</td>\n      <td>1924.0</td>\n      <td>EL CARMEN-SALINAS-VICTORIA</td>\n      <td>1</td>\n      <td>1924</td>\n      <td>EL CARMEN-SALINAS-VICTORIA</td>\n      <td>25.831250</td>\n      <td>-100.388139</td>\n      <td>PRIVADO</td>\n    </tr>\n    <tr>\n      <th>9773</th>\n      <td>06NVL115752/24EMDA13</td>\n      <td>SERVICIOS</td>\n      <td>FRISA FORJADOS, S.A. DE C.V.</td>\n      <td>50000.00</td>\n      <td>0</td>\n      <td>0.0</td>\n      <td>1</td>\n      <td>50000.00</td>\n      <td>0</td>\n      <td>0.0</td>\n      <td>...</td>\n      <td>32</td>\n      <td>23.0000</td>\n      <td>1909.0</td>\n      <td>CAMPO DURAZNO</td>\n      <td>1</td>\n      <td>1909</td>\n      <td>CAMPO DURAZNO</td>\n      <td>25.756944</td>\n      <td>-100.539722</td>\n      <td>PRIVADO</td>\n    </tr>\n    <tr>\n      <th>9774</th>\n      <td>06NVL115763/24FLOC14</td>\n      <td>INDUSTRIAL</td>\n      <td>ACEROMEX, S.A. DE C.V.</td>\n      <td>20000.00</td>\n      <td>0</td>\n      <td>0.0</td>\n      <td>1</td>\n      <td>20000.00</td>\n      <td>0</td>\n      <td>0.0</td>\n      <td>...</td>\n      <td>12</td>\n      <td>37.3000</td>\n      <td>1924.0</td>\n      <td>EL CARMEN-SALINAS-VICTORIA</td>\n      <td>1</td>\n      <td>1924</td>\n      <td>EL CARMEN-SALINAS-VICTORIA</td>\n      <td>25.909750</td>\n      <td>-100.210361</td>\n      <td>PRIVADO</td>\n    </tr>\n    <tr>\n      <th>9775</th>\n      <td>07NVL114700/37AMDA12</td>\n      <td>AGRÍCOLA</td>\n      <td>LOS ENEBROS, S.A. DE C.V.</td>\n      <td>1920000.00</td>\n      <td>0</td>\n      <td>0.0</td>\n      <td>2</td>\n      <td>1920000.00</td>\n      <td>0</td>\n      <td>0.0</td>\n      <td>...</td>\n      <td>25</td>\n      <td>10.6000</td>\n      <td>1916.0</td>\n      <td>NAVIDAD-POTOSI-RAICES</td>\n      <td>1</td>\n      <td>1916</td>\n      <td>NAVIDAD-POTOSÍ-RAÍCES</td>\n      <td>24.836667</td>\n      <td>-100.419611</td>\n      <td>PRIVADO</td>\n    </tr>\n    <tr>\n      <th>9776</th>\n      <td>07NVL114701/37AMDA12</td>\n      <td>AGRÍCOLA</td>\n      <td>CERRO DE AGUA, S.A. DE C.V.</td>\n      <td>3300000.00</td>\n      <td>0</td>\n      <td>0.0</td>\n      <td>4</td>\n      <td>3300000.00</td>\n      <td>0</td>\n      <td>0.0</td>\n      <td>...</td>\n      <td>23</td>\n      <td>4.8000</td>\n      <td>1916.0</td>\n      <td>NAVIDAD-POTOSI-RAICES</td>\n      <td>1</td>\n      <td>1916</td>\n      <td>NAVIDAD-POTOSÍ-RAÍCES</td>\n      <td>24.868361</td>\n      <td>-100.384667</td>\n      <td>PRIVADO</td>\n    </tr>\n  </tbody>\n</table>\n<p>9777 rows × 37 columns</p>\n</div>"
     },
     "execution_count": 11,
     "metadata": {},
     "output_type": "execute_result"
    }
   ],
   "source": [
    "# Visualizar la union2\n",
    "union2"
   ]
  },
  {
   "cell_type": "markdown",
   "metadata": {
    "pycharm": {
     "name": "#%% md\n"
    }
   },
   "source": [
    "### Union 3 la cual consiste en la union anterior(concesiones y subterraneos, repda) + el DOF"
   ]
  },
  {
   "cell_type": "code",
   "execution_count": 12,
   "metadata": {
    "pycharm": {
     "name": "#%%\n"
    }
   },
   "outputs": [],
   "source": [
    "# Se realiza la lectura de DOF solo las columnas del 3 al 9 que es de CLAVE hasta Volumen de extracción de agua pendiente de titulación\n",
    "DOF = pd.read_csv(\"../files/DOF.csv\", usecols = range(2,9))\n",
    "# Se renombra de CLAVE a CLAVE DE ACUIFERO HOMOLOGADO para poder realizar la unión 3 más rápido\n",
    "DOF = DOF.rename(columns={\"CLAVE\": \"CLAVE DE ACUIFERO HOMOLOGADO\"})"
   ]
  },
  {
   "cell_type": "code",
   "execution_count": 13,
   "metadata": {
    "pycharm": {
     "name": "#%%\n"
    }
   },
   "outputs": [],
   "source": [
    "# Se convirtieron las unidades de millones de litros de agua a litros de agua\n",
    "DOF['Recarga_total_media_anual'] = DOF.apply(lambda row: row['Recarga_total_media_anual']*1000000, axis=1)\n",
    "DOF['Descarga_natural_media_anual'] = DOF.apply(lambda row: row['Descarga_natural_media_anual']*1000000, axis=1)\n",
    "\n",
    "DOF['Volumen_consesionado_de_aguas_subterraneas'] = DOF.apply(lambda row: row['Volumen_consesionado_de_aguas_subterraneas']*1000000, axis=1)\n",
    "\n",
    "DOF['Volumen_de_extraccion_de_alumbramiento'] = DOF.apply(lambda row: row['Volumen_de_extraccion_de_alumbramiento']*1000000, axis=1)\n",
    "\n",
    "DOF['Volumen_de_extraccion_de_agua_pendiente_de_titulacion'] = DOF.apply(lambda row: row['Volumen_de_extraccion_de_agua_pendiente_de_titulacion']*1000000, axis=1)"
   ]
  },
  {
   "cell_type": "code",
   "execution_count": 14,
   "metadata": {
    "pycharm": {
     "name": "#%%\n"
    }
   },
   "outputs": [
    {
     "data": {
      "text/plain": "    CLAVE DE ACUIFERO HOMOLOGADO                         ACUIFERO  \\\n0                           1901              LAMPAZOS-VILLALDAMA   \n1                           1902                    SABINAS-PARÁS   \n2                           1903                 LAMPAZOS-ANÁHUAC   \n3                           1905               AGUALEGUAS-RAMONES   \n4                           1906  ÁREA METROPOLITANA DE MONTERREY   \n5                           1907               CAMPO BUENOS AIRES   \n6                           1908                       CAMPO MINA   \n7                           1909                    CAMPO DURAZNO   \n8                           1910                 CAMPO TOPO CHICO   \n9                           1911                CAÑÓN DEL HUAJUCO   \n10                          1912                  CITRÍCOLA NORTE   \n11                          1913              CHINA-GENERAL BRAVO   \n12                          1914                    CITRÍCOLA SUR   \n13                          1915                   SOTO LA MARINA   \n14                          1916            NAVIDAD-POTOSÍ-RAÍCES   \n15                          1917                  SANDIA-LA UNIÓN   \n16                          1918                    CAMPO JARITAS   \n17                          1919                   CAMPO CERRITOS   \n18                          1920                  CAMPO PAPAGAYOS   \n19                          1921    EL PEÑUELO-SAN JOSÉ EL PALMAR   \n20                          1922        SANTA RITA-CRUZ DE ELORZA   \n21                          1923                    DOCTOR ARROYO   \n22                          1924       EL CARMEN-SALINAS-VICTORIA   \n\n    Recarga_total_media_anual  Descarga_natural_media_anual  \\\n0                  20500000.0                     8000000.0   \n1                  46000000.0                    17700000.0   \n2                  66600000.0                    18000000.0   \n3                  35300000.0                           0.0   \n4                 143700000.0                    45800000.0   \n5                  57000000.0                           0.0   \n6                  24000000.0                           0.0   \n7                   9600000.0                           0.0   \n8                   3500000.0                           0.0   \n9                  26800000.0                           0.0   \n10                336700000.0                     7900000.0   \n11                 23900000.0                           0.0   \n12                 75100000.0                    47100000.0   \n13                 84000000.0                    73100000.0   \n14                 88800000.0                           0.0   \n15                 25800000.0                           0.0   \n16                  2900000.0                           0.0   \n17                  3000000.0                           0.0   \n18                  2500000.0                           0.0   \n19                  9000000.0                           0.0   \n20                 27600000.0                           0.0   \n21                 13400000.0                           0.0   \n22                 53900000.0                     6200000.0   \n\n    Volumen_consesionado_de_aguas_subterraneas  \\\n0                                   12399000.0   \n1                                   56767500.0   \n2                                    4704750.0   \n3                                   13423200.0   \n4                                  102017000.0   \n5                                   62800400.0   \n6                                   31550000.0   \n7                                    9018750.0   \n8                                    3236660.0   \n9                                   28701000.0   \n10                                 243568000.0   \n11                                   9901880.0   \n12                                  65948900.0   \n13                                   9586700.0   \n14                                 161516000.0   \n15                                  27325300.0   \n16                                         0.0   \n17                                   1528660.0   \n18                                   1699010.0   \n19                                         0.0   \n20                                    448800.0   \n21                                   1013380.0   \n22                                  51191200.0   \n\n    Volumen_de_extraccion_de_alumbramiento  \\\n0                               13385000.0   \n1                               47769700.0   \n2                                5932870.0   \n3                               16936700.0   \n4                                7388160.0   \n5                                      0.0   \n6                                 264803.0   \n7                                2061670.0   \n8                                      0.0   \n9                                      0.0   \n10                             150601000.0   \n11                               8455430.0   \n12                              51249700.0   \n13                                202100.0   \n14                                     0.0   \n15                               8825110.0   \n16                                 51060.0   \n17                               3010930.0   \n18                                308056.0   \n19                                     0.0   \n20                                967545.0   \n21                                220752.0   \n22                              32370600.0   \n\n    Volumen_de_extraccion_de_agua_pendiente_de_titulacion  \n0                                                 0.0      \n1                                                 0.0      \n2                                             83385.0      \n3                                         726000000.0      \n4                                              7718.0      \n5                                                 0.0      \n6                                                 0.0      \n7                                                 0.0      \n8                                                 0.0      \n9                                             26200.0      \n10                                            21600.0      \n11                                           606308.0      \n12                                                0.0      \n13                                            25200.0      \n14                                                0.0      \n15                                                0.0      \n16                                        106000000.0      \n17                                                0.0      \n18                                                0.0      \n19                                                0.0      \n20                                                0.0      \n21                                                0.0      \n22                                                0.0      ",
      "text/html": "<div>\n<style scoped>\n    .dataframe tbody tr th:only-of-type {\n        vertical-align: middle;\n    }\n\n    .dataframe tbody tr th {\n        vertical-align: top;\n    }\n\n    .dataframe thead th {\n        text-align: right;\n    }\n</style>\n<table border=\"1\" class=\"dataframe\">\n  <thead>\n    <tr style=\"text-align: right;\">\n      <th></th>\n      <th>CLAVE DE ACUIFERO HOMOLOGADO</th>\n      <th>ACUIFERO</th>\n      <th>Recarga_total_media_anual</th>\n      <th>Descarga_natural_media_anual</th>\n      <th>Volumen_consesionado_de_aguas_subterraneas</th>\n      <th>Volumen_de_extraccion_de_alumbramiento</th>\n      <th>Volumen_de_extraccion_de_agua_pendiente_de_titulacion</th>\n    </tr>\n  </thead>\n  <tbody>\n    <tr>\n      <th>0</th>\n      <td>1901</td>\n      <td>LAMPAZOS-VILLALDAMA</td>\n      <td>20500000.0</td>\n      <td>8000000.0</td>\n      <td>12399000.0</td>\n      <td>13385000.0</td>\n      <td>0.0</td>\n    </tr>\n    <tr>\n      <th>1</th>\n      <td>1902</td>\n      <td>SABINAS-PARÁS</td>\n      <td>46000000.0</td>\n      <td>17700000.0</td>\n      <td>56767500.0</td>\n      <td>47769700.0</td>\n      <td>0.0</td>\n    </tr>\n    <tr>\n      <th>2</th>\n      <td>1903</td>\n      <td>LAMPAZOS-ANÁHUAC</td>\n      <td>66600000.0</td>\n      <td>18000000.0</td>\n      <td>4704750.0</td>\n      <td>5932870.0</td>\n      <td>83385.0</td>\n    </tr>\n    <tr>\n      <th>3</th>\n      <td>1905</td>\n      <td>AGUALEGUAS-RAMONES</td>\n      <td>35300000.0</td>\n      <td>0.0</td>\n      <td>13423200.0</td>\n      <td>16936700.0</td>\n      <td>726000000.0</td>\n    </tr>\n    <tr>\n      <th>4</th>\n      <td>1906</td>\n      <td>ÁREA METROPOLITANA DE MONTERREY</td>\n      <td>143700000.0</td>\n      <td>45800000.0</td>\n      <td>102017000.0</td>\n      <td>7388160.0</td>\n      <td>7718.0</td>\n    </tr>\n    <tr>\n      <th>5</th>\n      <td>1907</td>\n      <td>CAMPO BUENOS AIRES</td>\n      <td>57000000.0</td>\n      <td>0.0</td>\n      <td>62800400.0</td>\n      <td>0.0</td>\n      <td>0.0</td>\n    </tr>\n    <tr>\n      <th>6</th>\n      <td>1908</td>\n      <td>CAMPO MINA</td>\n      <td>24000000.0</td>\n      <td>0.0</td>\n      <td>31550000.0</td>\n      <td>264803.0</td>\n      <td>0.0</td>\n    </tr>\n    <tr>\n      <th>7</th>\n      <td>1909</td>\n      <td>CAMPO DURAZNO</td>\n      <td>9600000.0</td>\n      <td>0.0</td>\n      <td>9018750.0</td>\n      <td>2061670.0</td>\n      <td>0.0</td>\n    </tr>\n    <tr>\n      <th>8</th>\n      <td>1910</td>\n      <td>CAMPO TOPO CHICO</td>\n      <td>3500000.0</td>\n      <td>0.0</td>\n      <td>3236660.0</td>\n      <td>0.0</td>\n      <td>0.0</td>\n    </tr>\n    <tr>\n      <th>9</th>\n      <td>1911</td>\n      <td>CAÑÓN DEL HUAJUCO</td>\n      <td>26800000.0</td>\n      <td>0.0</td>\n      <td>28701000.0</td>\n      <td>0.0</td>\n      <td>26200.0</td>\n    </tr>\n    <tr>\n      <th>10</th>\n      <td>1912</td>\n      <td>CITRÍCOLA NORTE</td>\n      <td>336700000.0</td>\n      <td>7900000.0</td>\n      <td>243568000.0</td>\n      <td>150601000.0</td>\n      <td>21600.0</td>\n    </tr>\n    <tr>\n      <th>11</th>\n      <td>1913</td>\n      <td>CHINA-GENERAL BRAVO</td>\n      <td>23900000.0</td>\n      <td>0.0</td>\n      <td>9901880.0</td>\n      <td>8455430.0</td>\n      <td>606308.0</td>\n    </tr>\n    <tr>\n      <th>12</th>\n      <td>1914</td>\n      <td>CITRÍCOLA SUR</td>\n      <td>75100000.0</td>\n      <td>47100000.0</td>\n      <td>65948900.0</td>\n      <td>51249700.0</td>\n      <td>0.0</td>\n    </tr>\n    <tr>\n      <th>13</th>\n      <td>1915</td>\n      <td>SOTO LA MARINA</td>\n      <td>84000000.0</td>\n      <td>73100000.0</td>\n      <td>9586700.0</td>\n      <td>202100.0</td>\n      <td>25200.0</td>\n    </tr>\n    <tr>\n      <th>14</th>\n      <td>1916</td>\n      <td>NAVIDAD-POTOSÍ-RAÍCES</td>\n      <td>88800000.0</td>\n      <td>0.0</td>\n      <td>161516000.0</td>\n      <td>0.0</td>\n      <td>0.0</td>\n    </tr>\n    <tr>\n      <th>15</th>\n      <td>1917</td>\n      <td>SANDIA-LA UNIÓN</td>\n      <td>25800000.0</td>\n      <td>0.0</td>\n      <td>27325300.0</td>\n      <td>8825110.0</td>\n      <td>0.0</td>\n    </tr>\n    <tr>\n      <th>16</th>\n      <td>1918</td>\n      <td>CAMPO JARITAS</td>\n      <td>2900000.0</td>\n      <td>0.0</td>\n      <td>0.0</td>\n      <td>51060.0</td>\n      <td>106000000.0</td>\n    </tr>\n    <tr>\n      <th>17</th>\n      <td>1919</td>\n      <td>CAMPO CERRITOS</td>\n      <td>3000000.0</td>\n      <td>0.0</td>\n      <td>1528660.0</td>\n      <td>3010930.0</td>\n      <td>0.0</td>\n    </tr>\n    <tr>\n      <th>18</th>\n      <td>1920</td>\n      <td>CAMPO PAPAGAYOS</td>\n      <td>2500000.0</td>\n      <td>0.0</td>\n      <td>1699010.0</td>\n      <td>308056.0</td>\n      <td>0.0</td>\n    </tr>\n    <tr>\n      <th>19</th>\n      <td>1921</td>\n      <td>EL PEÑUELO-SAN JOSÉ EL PALMAR</td>\n      <td>9000000.0</td>\n      <td>0.0</td>\n      <td>0.0</td>\n      <td>0.0</td>\n      <td>0.0</td>\n    </tr>\n    <tr>\n      <th>20</th>\n      <td>1922</td>\n      <td>SANTA RITA-CRUZ DE ELORZA</td>\n      <td>27600000.0</td>\n      <td>0.0</td>\n      <td>448800.0</td>\n      <td>967545.0</td>\n      <td>0.0</td>\n    </tr>\n    <tr>\n      <th>21</th>\n      <td>1923</td>\n      <td>DOCTOR ARROYO</td>\n      <td>13400000.0</td>\n      <td>0.0</td>\n      <td>1013380.0</td>\n      <td>220752.0</td>\n      <td>0.0</td>\n    </tr>\n    <tr>\n      <th>22</th>\n      <td>1924</td>\n      <td>EL CARMEN-SALINAS-VICTORIA</td>\n      <td>53900000.0</td>\n      <td>6200000.0</td>\n      <td>51191200.0</td>\n      <td>32370600.0</td>\n      <td>0.0</td>\n    </tr>\n  </tbody>\n</table>\n</div>"
     },
     "execution_count": 14,
     "metadata": {},
     "output_type": "execute_result"
    }
   ],
   "source": [
    "# Se visualiza los datos del Diario Oficial de la Federación\n",
    "DOF"
   ]
  },
  {
   "cell_type": "code",
   "execution_count": 15,
   "metadata": {
    "pycharm": {
     "name": "#%%\n"
    }
   },
   "outputs": [
    {
     "data": {
      "text/plain": "                    TITULO USO QUE AMPARA EL TITULO  \\\n0                   810151                DOMÉSTICO   \n1                   842395                 AGRÍCOLA   \n2                NVL113292                 AGRÍCOLA   \n3                NVL110912                 AGRÍCOLA   \n4     06NVL106977/24GMGR99                 PECUARIO   \n...                    ...                      ...   \n9734  06NVL156839/37APDA18                 AGRÍCOLA   \n9735  06NVL160124/37AMDA18                 AGRÍCOLA   \n9736  06NVL155616/24FMDA16               INDUSTRIAL   \n9737  06NVL156209/37AMDA17                 AGRÍCOLA   \n9738  06NVL103150/24FMDA17               INDUSTRIAL   \n\n                                              TITULAR  \\\n0                        REBECA QUINTANILLA RODRIGUEZ   \n1                             ENEDELIA HERNANDEZ PEÑA   \n2     ANTONIO CANTU OCHOA, MA. DE LA LUZ GARCIA PEREZ   \n3                        HUGO HUMBERTO HERNANDEZ LEAL   \n4                               ALFREDO CANTU TREVIÑO   \n...                                               ...   \n9734                          EVELIO HERNANDEZ RANGEL   \n9735                         FAUSTINO LOERA ARREDONDO   \n9736           COMPAÑIA TOPOCHICO, S. DE R.L. DE C.V.   \n9737                            EJIDO NUEVA PRIMAVERA   \n9738                  PEMEX TRANSFORMACION INDUSTRIAL   \n\n      VOLUMEN DE EXTRACCIÓN ANUAL DE AGUAS NACIONALES QUE AMPARA EL TITULO EN m3  \\\n0                                                1200.0                            \n1                                               48000.0                            \n2                                              192000.0                            \n3                                               48000.0                            \n4                                                2738.0                            \n...                                                 ...                            \n9734                                            60000.0                            \n9735                                           194400.0                            \n9736                                           400000.0                            \n9737                                           140400.0                            \n9738                                          1916394.0                            \n\n      APROVECHAMIENTOS SUPERFICIALES QUE AMPARA EL TITULO  \\\n0                                                     0     \n1                                                     0     \n2                                                     0     \n3                                                     0     \n4                                                     0     \n...                                                 ...     \n9734                                                  0     \n9735                                                  0     \n9736                                                  0     \n9737                                                  0     \n9738                                                  0     \n\n      VOLUMEN DE EXTRACCIÓN ANUAL DE APROVECHAMIENTOS SUPERFICIALES EN m3  \\\n0                                                   0.0                     \n1                                                   0.0                     \n2                                                   0.0                     \n3                                                   0.0                     \n4                                                   0.0                     \n...                                                 ...                     \n9734                                                0.0                     \n9735                                                0.0                     \n9736                                                0.0                     \n9737                                                0.0                     \n9738                                                0.0                     \n\n      APROVECHAMIENTOS SUBTERRÁNEOS QUE AMPARA EL TITULO  \\\n0                                                     1    \n1                                                     1    \n2                                                     1    \n3                                                     1    \n4                                                     1    \n...                                                 ...    \n9734                                                  1    \n9735                                                  1    \n9736                                                  1    \n9737                                                  1    \n9738                                                 13    \n\n      VOLUMEN DE EXTRACCIÓN ANUAL DE APROVECHAMIENTOS SUBTERRÁNEOS EN m3  \\\n0                                                1200.0                    \n1                                               48000.0                    \n2                                              192000.0                    \n3                                               48000.0                    \n4                                                2738.0                    \n...                                                 ...                    \n9734                                            60000.0                    \n9735                                           194400.0                    \n9736                                           400000.0                    \n9737                                           140400.0                    \n9738                                          1916394.0                    \n\n      PUNTOS DE DESCARGA QUE AMPARA EL TITULO  \\\n0                                           0   \n1                                           0   \n2                                           0   \n3                                           0   \n4                                           0   \n...                                       ...   \n9734                                        0   \n9735                                        0   \n9736                                        0   \n9737                                        0   \n9738                                        0   \n\n      VOLUMEN DE DESCARGA DIARIO EN m3  ...  NOMBRE DE ACUIFERO HOMOLOGADO  \\\n0                                  0.0  ...            CHINA-GENERAL BRAVO   \n1                                  0.0  ...            CHINA-GENERAL BRAVO   \n2                                  0.0  ...            CHINA-GENERAL BRAVO   \n3                                  0.0  ...            CHINA-GENERAL BRAVO   \n4                                  0.0  ...            CHINA-GENERAL BRAVO   \n...                                ...  ...                            ...   \n9734                               0.0  ...      SANTA RITA-CRUZ DE ELORZA   \n9735                               0.0  ...      SANTA RITA-CRUZ DE ELORZA   \n9736                               0.0  ...               CAMPO TOPO CHICO   \n9737                               0.0  ...  EL PEÑUELO-SAN JOSÉ EL PALMAR   \n9738                               0.0  ...                CAMPO PAPAGAYOS   \n\n        Latitud    Longitud PubPrivEjid                       ACUIFERO  \\\n0     25.697347  -99.626144     PRIVADO            CHINA-GENERAL BRAVO   \n1     25.687502  -99.616676     PRIVADO            CHINA-GENERAL BRAVO   \n2     25.745280  -99.621944     PRIVADO            CHINA-GENERAL BRAVO   \n3     25.687505  -99.616668     PRIVADO            CHINA-GENERAL BRAVO   \n4     25.893889  -98.993611     PRIVADO            CHINA-GENERAL BRAVO   \n...         ...         ...         ...                            ...   \n9734  24.302667 -100.403056     PRIVADO      SANTA RITA-CRUZ DE ELORZA   \n9735  23.981861 -100.396917     PRIVADO      SANTA RITA-CRUZ DE ELORZA   \n9736  25.736028 -100.328833     PRIVADO               CAMPO TOPO CHICO   \n9737  24.508056 -100.692778      EJIDAL  EL PEÑUELO-SAN JOSÉ EL PALMAR   \n9738  25.854722  -99.875444     PUBLICO                CAMPO PAPAGAYOS   \n\n     Recarga_total_media_anual  Descarga_natural_media_anual  \\\n0                   23900000.0                           0.0   \n1                   23900000.0                           0.0   \n2                   23900000.0                           0.0   \n3                   23900000.0                           0.0   \n4                   23900000.0                           0.0   \n...                        ...                           ...   \n9734                27600000.0                           0.0   \n9735                27600000.0                           0.0   \n9736                 3500000.0                           0.0   \n9737                 9000000.0                           0.0   \n9738                 2500000.0                           0.0   \n\n     Volumen_consesionado_de_aguas_subterraneas  \\\n0                                     9901880.0   \n1                                     9901880.0   \n2                                     9901880.0   \n3                                     9901880.0   \n4                                     9901880.0   \n...                                         ...   \n9734                                   448800.0   \n9735                                   448800.0   \n9736                                  3236660.0   \n9737                                        0.0   \n9738                                  1699010.0   \n\n      Volumen_de_extraccion_de_alumbramiento  \\\n0                                  8455430.0   \n1                                  8455430.0   \n2                                  8455430.0   \n3                                  8455430.0   \n4                                  8455430.0   \n...                                      ...   \n9734                                967545.0   \n9735                                967545.0   \n9736                                     0.0   \n9737                                     0.0   \n9738                                308056.0   \n\n     Volumen_de_extraccion_de_agua_pendiente_de_titulacion  \n0                                              606308.0     \n1                                              606308.0     \n2                                              606308.0     \n3                                              606308.0     \n4                                              606308.0     \n...                                                 ...     \n9734                                                0.0     \n9735                                                0.0     \n9736                                                0.0     \n9737                                                0.0     \n9738                                                0.0     \n\n[9739 rows x 43 columns]",
      "text/html": "<div>\n<style scoped>\n    .dataframe tbody tr th:only-of-type {\n        vertical-align: middle;\n    }\n\n    .dataframe tbody tr th {\n        vertical-align: top;\n    }\n\n    .dataframe thead th {\n        text-align: right;\n    }\n</style>\n<table border=\"1\" class=\"dataframe\">\n  <thead>\n    <tr style=\"text-align: right;\">\n      <th></th>\n      <th>TITULO</th>\n      <th>USO QUE AMPARA EL TITULO</th>\n      <th>TITULAR</th>\n      <th>VOLUMEN DE EXTRACCIÓN ANUAL DE AGUAS NACIONALES QUE AMPARA EL TITULO EN m3</th>\n      <th>APROVECHAMIENTOS SUPERFICIALES QUE AMPARA EL TITULO</th>\n      <th>VOLUMEN DE EXTRACCIÓN ANUAL DE APROVECHAMIENTOS SUPERFICIALES EN m3</th>\n      <th>APROVECHAMIENTOS SUBTERRÁNEOS QUE AMPARA EL TITULO</th>\n      <th>VOLUMEN DE EXTRACCIÓN ANUAL DE APROVECHAMIENTOS SUBTERRÁNEOS EN m3</th>\n      <th>PUNTOS DE DESCARGA QUE AMPARA EL TITULO</th>\n      <th>VOLUMEN DE DESCARGA DIARIO EN m3</th>\n      <th>...</th>\n      <th>NOMBRE DE ACUIFERO HOMOLOGADO</th>\n      <th>Latitud</th>\n      <th>Longitud</th>\n      <th>PubPrivEjid</th>\n      <th>ACUIFERO</th>\n      <th>Recarga_total_media_anual</th>\n      <th>Descarga_natural_media_anual</th>\n      <th>Volumen_consesionado_de_aguas_subterraneas</th>\n      <th>Volumen_de_extraccion_de_alumbramiento</th>\n      <th>Volumen_de_extraccion_de_agua_pendiente_de_titulacion</th>\n    </tr>\n  </thead>\n  <tbody>\n    <tr>\n      <th>0</th>\n      <td>810151</td>\n      <td>DOMÉSTICO</td>\n      <td>REBECA QUINTANILLA RODRIGUEZ</td>\n      <td>1200.0</td>\n      <td>0</td>\n      <td>0.0</td>\n      <td>1</td>\n      <td>1200.0</td>\n      <td>0</td>\n      <td>0.0</td>\n      <td>...</td>\n      <td>CHINA-GENERAL BRAVO</td>\n      <td>25.697347</td>\n      <td>-99.626144</td>\n      <td>PRIVADO</td>\n      <td>CHINA-GENERAL BRAVO</td>\n      <td>23900000.0</td>\n      <td>0.0</td>\n      <td>9901880.0</td>\n      <td>8455430.0</td>\n      <td>606308.0</td>\n    </tr>\n    <tr>\n      <th>1</th>\n      <td>842395</td>\n      <td>AGRÍCOLA</td>\n      <td>ENEDELIA HERNANDEZ PEÑA</td>\n      <td>48000.0</td>\n      <td>0</td>\n      <td>0.0</td>\n      <td>1</td>\n      <td>48000.0</td>\n      <td>0</td>\n      <td>0.0</td>\n      <td>...</td>\n      <td>CHINA-GENERAL BRAVO</td>\n      <td>25.687502</td>\n      <td>-99.616676</td>\n      <td>PRIVADO</td>\n      <td>CHINA-GENERAL BRAVO</td>\n      <td>23900000.0</td>\n      <td>0.0</td>\n      <td>9901880.0</td>\n      <td>8455430.0</td>\n      <td>606308.0</td>\n    </tr>\n    <tr>\n      <th>2</th>\n      <td>NVL113292</td>\n      <td>AGRÍCOLA</td>\n      <td>ANTONIO CANTU OCHOA, MA. DE LA LUZ GARCIA PEREZ</td>\n      <td>192000.0</td>\n      <td>0</td>\n      <td>0.0</td>\n      <td>1</td>\n      <td>192000.0</td>\n      <td>0</td>\n      <td>0.0</td>\n      <td>...</td>\n      <td>CHINA-GENERAL BRAVO</td>\n      <td>25.745280</td>\n      <td>-99.621944</td>\n      <td>PRIVADO</td>\n      <td>CHINA-GENERAL BRAVO</td>\n      <td>23900000.0</td>\n      <td>0.0</td>\n      <td>9901880.0</td>\n      <td>8455430.0</td>\n      <td>606308.0</td>\n    </tr>\n    <tr>\n      <th>3</th>\n      <td>NVL110912</td>\n      <td>AGRÍCOLA</td>\n      <td>HUGO HUMBERTO HERNANDEZ LEAL</td>\n      <td>48000.0</td>\n      <td>0</td>\n      <td>0.0</td>\n      <td>1</td>\n      <td>48000.0</td>\n      <td>0</td>\n      <td>0.0</td>\n      <td>...</td>\n      <td>CHINA-GENERAL BRAVO</td>\n      <td>25.687505</td>\n      <td>-99.616668</td>\n      <td>PRIVADO</td>\n      <td>CHINA-GENERAL BRAVO</td>\n      <td>23900000.0</td>\n      <td>0.0</td>\n      <td>9901880.0</td>\n      <td>8455430.0</td>\n      <td>606308.0</td>\n    </tr>\n    <tr>\n      <th>4</th>\n      <td>06NVL106977/24GMGR99</td>\n      <td>PECUARIO</td>\n      <td>ALFREDO CANTU TREVIÑO</td>\n      <td>2738.0</td>\n      <td>0</td>\n      <td>0.0</td>\n      <td>1</td>\n      <td>2738.0</td>\n      <td>0</td>\n      <td>0.0</td>\n      <td>...</td>\n      <td>CHINA-GENERAL BRAVO</td>\n      <td>25.893889</td>\n      <td>-98.993611</td>\n      <td>PRIVADO</td>\n      <td>CHINA-GENERAL BRAVO</td>\n      <td>23900000.0</td>\n      <td>0.0</td>\n      <td>9901880.0</td>\n      <td>8455430.0</td>\n      <td>606308.0</td>\n    </tr>\n    <tr>\n      <th>...</th>\n      <td>...</td>\n      <td>...</td>\n      <td>...</td>\n      <td>...</td>\n      <td>...</td>\n      <td>...</td>\n      <td>...</td>\n      <td>...</td>\n      <td>...</td>\n      <td>...</td>\n      <td>...</td>\n      <td>...</td>\n      <td>...</td>\n      <td>...</td>\n      <td>...</td>\n      <td>...</td>\n      <td>...</td>\n      <td>...</td>\n      <td>...</td>\n      <td>...</td>\n      <td>...</td>\n    </tr>\n    <tr>\n      <th>9734</th>\n      <td>06NVL156839/37APDA18</td>\n      <td>AGRÍCOLA</td>\n      <td>EVELIO HERNANDEZ RANGEL</td>\n      <td>60000.0</td>\n      <td>0</td>\n      <td>0.0</td>\n      <td>1</td>\n      <td>60000.0</td>\n      <td>0</td>\n      <td>0.0</td>\n      <td>...</td>\n      <td>SANTA RITA-CRUZ DE ELORZA</td>\n      <td>24.302667</td>\n      <td>-100.403056</td>\n      <td>PRIVADO</td>\n      <td>SANTA RITA-CRUZ DE ELORZA</td>\n      <td>27600000.0</td>\n      <td>0.0</td>\n      <td>448800.0</td>\n      <td>967545.0</td>\n      <td>0.0</td>\n    </tr>\n    <tr>\n      <th>9735</th>\n      <td>06NVL160124/37AMDA18</td>\n      <td>AGRÍCOLA</td>\n      <td>FAUSTINO LOERA ARREDONDO</td>\n      <td>194400.0</td>\n      <td>0</td>\n      <td>0.0</td>\n      <td>1</td>\n      <td>194400.0</td>\n      <td>0</td>\n      <td>0.0</td>\n      <td>...</td>\n      <td>SANTA RITA-CRUZ DE ELORZA</td>\n      <td>23.981861</td>\n      <td>-100.396917</td>\n      <td>PRIVADO</td>\n      <td>SANTA RITA-CRUZ DE ELORZA</td>\n      <td>27600000.0</td>\n      <td>0.0</td>\n      <td>448800.0</td>\n      <td>967545.0</td>\n      <td>0.0</td>\n    </tr>\n    <tr>\n      <th>9736</th>\n      <td>06NVL155616/24FMDA16</td>\n      <td>INDUSTRIAL</td>\n      <td>COMPAÑIA TOPOCHICO, S. DE R.L. DE C.V.</td>\n      <td>400000.0</td>\n      <td>0</td>\n      <td>0.0</td>\n      <td>1</td>\n      <td>400000.0</td>\n      <td>0</td>\n      <td>0.0</td>\n      <td>...</td>\n      <td>CAMPO TOPO CHICO</td>\n      <td>25.736028</td>\n      <td>-100.328833</td>\n      <td>PRIVADO</td>\n      <td>CAMPO TOPO CHICO</td>\n      <td>3500000.0</td>\n      <td>0.0</td>\n      <td>3236660.0</td>\n      <td>0.0</td>\n      <td>0.0</td>\n    </tr>\n    <tr>\n      <th>9737</th>\n      <td>06NVL156209/37AMDA17</td>\n      <td>AGRÍCOLA</td>\n      <td>EJIDO NUEVA PRIMAVERA</td>\n      <td>140400.0</td>\n      <td>0</td>\n      <td>0.0</td>\n      <td>1</td>\n      <td>140400.0</td>\n      <td>0</td>\n      <td>0.0</td>\n      <td>...</td>\n      <td>EL PEÑUELO-SAN JOSÉ EL PALMAR</td>\n      <td>24.508056</td>\n      <td>-100.692778</td>\n      <td>EJIDAL</td>\n      <td>EL PEÑUELO-SAN JOSÉ EL PALMAR</td>\n      <td>9000000.0</td>\n      <td>0.0</td>\n      <td>0.0</td>\n      <td>0.0</td>\n      <td>0.0</td>\n    </tr>\n    <tr>\n      <th>9738</th>\n      <td>06NVL103150/24FMDA17</td>\n      <td>INDUSTRIAL</td>\n      <td>PEMEX TRANSFORMACION INDUSTRIAL</td>\n      <td>1916394.0</td>\n      <td>0</td>\n      <td>0.0</td>\n      <td>13</td>\n      <td>1916394.0</td>\n      <td>0</td>\n      <td>0.0</td>\n      <td>...</td>\n      <td>CAMPO PAPAGAYOS</td>\n      <td>25.854722</td>\n      <td>-99.875444</td>\n      <td>PUBLICO</td>\n      <td>CAMPO PAPAGAYOS</td>\n      <td>2500000.0</td>\n      <td>0.0</td>\n      <td>1699010.0</td>\n      <td>308056.0</td>\n      <td>0.0</td>\n    </tr>\n  </tbody>\n</table>\n<p>9739 rows × 43 columns</p>\n</div>"
     },
     "execution_count": 15,
     "metadata": {},
     "output_type": "execute_result"
    }
   ],
   "source": [
    "# Se realiza la unión entre la union2 (concesiones y subterraneos, repda) + el DOF\n",
    "union3 = pd.merge(union2,DOF,on='CLAVE DE ACUIFERO HOMOLOGADO')\n",
    "union3"
   ]
  },
  {
   "cell_type": "markdown",
   "metadata": {
    "pycharm": {
     "name": "#%% md\n"
    }
   },
   "source": [
    "### Se crea un archivo .csv a partir de la union 3"
   ]
  },
  {
   "cell_type": "code",
   "execution_count": 16,
   "metadata": {
    "pycharm": {
     "name": "#%%\n"
    }
   },
   "outputs": [],
   "source": [
    "union3.to_csv(\"../files/UnionRegiosDOF.csv\", sep=',')"
   ]
  },
  {
   "cell_type": "code",
   "execution_count": 17,
   "outputs": [
    {
     "name": "stdout",
     "output_type": "stream",
     "text": [
      "None\n"
     ]
    }
   ],
   "source": [
    "titulares = np.unique(union3[\"TITULAR\"], return_counts=True)\n",
    "titulares = dict(zip(titulares[0], titulares[1]))\n",
    "print({k: v for k, v in sorted(titulares.items(), key=lambda item: item[1])}.get('b'))"
   ],
   "metadata": {
    "collapsed": false,
    "pycharm": {
     "name": "#%%\n"
    }
   }
  },
  {
   "cell_type": "code",
   "execution_count": 17,
   "outputs": [],
   "source": [],
   "metadata": {
    "collapsed": false,
    "pycharm": {
     "name": "#%%\n"
    }
   }
  }
 ],
 "metadata": {
  "kernelspec": {
   "display_name": "Python 3 (ipykernel)",
   "language": "python",
   "name": "python3"
  },
  "language_info": {
   "codemirror_mode": {
    "name": "ipython",
    "version": 3
   },
   "file_extension": ".py",
   "mimetype": "text/x-python",
   "name": "python",
   "nbconvert_exporter": "python",
   "pygments_lexer": "ipython3",
   "version": "3.9.12"
  }
 },
 "nbformat": 4,
 "nbformat_minor": 1
}